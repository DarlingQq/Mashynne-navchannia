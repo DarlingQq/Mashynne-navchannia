{
  "nbformat": 4,
  "nbformat_minor": 0,
  "metadata": {
    "colab": {
      "provenance": []
    },
    "kernelspec": {
      "name": "python3",
      "display_name": "Python 3"
    },
    "language_info": {
      "name": "python"
    }
  },
  "cells": [
    {
      "cell_type": "code",
      "execution_count": null,
      "metadata": {
        "id": "TOOEcCDZtLbv"
      },
      "outputs": [],
      "source": [
        "\n",
        "# Лабораторна робота №4.  Задача класифікації\n",
        "# Автор: Байков Олександр Сергійович ФІТ 4-11\n",
        "# На парі  був\n"
      ]
    },
    {
      "cell_type": "code",
      "source": [
        "import numpy as np\n",
        "import pandas as pd\n",
        "from sklearn.datasets import load_breast_cancer\n",
        "from sklearn.model_selection import train_test_split, GridSearchCV\n",
        "from sklearn.preprocessing import StandardScaler\n",
        "from sklearn.linear_model import LogisticRegression\n",
        "from sklearn.tree import DecisionTreeClassifier\n",
        "from sklearn.ensemble import RandomForestClassifier\n",
        "from sklearn.metrics import accuracy_score, confusion_matrix, classification_report\n",
        "import seaborn as sns\n",
        "import matplotlib.pyplot as plt"
      ],
      "metadata": {
        "id": "NsiB7EWRviWn"
      },
      "execution_count": 155,
      "outputs": []
    },
    {
      "cell_type": "code",
      "source": [
        "# ЗАВДАННЯ 1. Класифікація Breast Cancer\n",
        "# Завантаження датасету\n",
        "data = load_breast_cancer()\n",
        "X = pd.DataFrame(data.data, columns=data.feature_names)\n",
        "y = pd.Series(data.target)"
      ],
      "metadata": {
        "id": "n4VDu5F8z1o5"
      },
      "execution_count": 156,
      "outputs": []
    },
    {
      "cell_type": "code",
      "source": [
        "# Попередній аналіз даних\n",
        "print(\"Перші рядки даних:\")\n",
        "print(X.head())\n",
        "print(\"\\nТипи даних:\")\n",
        "print(X.dtypes)\n",
        "print(\"\\nКількість пропусків:\", X.isnull().sum().sum())\n",
        "print(\"\\nРозмір даних:\", X.shape)"
      ],
      "metadata": {
        "colab": {
          "base_uri": "https://localhost:8080/"
        },
        "id": "YFRwfolEz6aH",
        "outputId": "4e547a4e-7073-4e90-db7a-7cdeb16624da"
      },
      "execution_count": 158,
      "outputs": [
        {
          "output_type": "stream",
          "name": "stdout",
          "text": [
            "Перші рядки даних:\n",
            "   mean radius  mean texture  mean perimeter  mean area  mean smoothness  \\\n",
            "0        17.99         10.38          122.80     1001.0          0.11840   \n",
            "1        20.57         17.77          132.90     1326.0          0.08474   \n",
            "2        19.69         21.25          130.00     1203.0          0.10960   \n",
            "3        11.42         20.38           77.58      386.1          0.14250   \n",
            "4        20.29         14.34          135.10     1297.0          0.10030   \n",
            "\n",
            "   mean compactness  mean concavity  mean concave points  mean symmetry  \\\n",
            "0           0.27760          0.3001              0.14710         0.2419   \n",
            "1           0.07864          0.0869              0.07017         0.1812   \n",
            "2           0.15990          0.1974              0.12790         0.2069   \n",
            "3           0.28390          0.2414              0.10520         0.2597   \n",
            "4           0.13280          0.1980              0.10430         0.1809   \n",
            "\n",
            "   mean fractal dimension  ...  worst radius  worst texture  worst perimeter  \\\n",
            "0                 0.07871  ...         25.38          17.33           184.60   \n",
            "1                 0.05667  ...         24.99          23.41           158.80   \n",
            "2                 0.05999  ...         23.57          25.53           152.50   \n",
            "3                 0.09744  ...         14.91          26.50            98.87   \n",
            "4                 0.05883  ...         22.54          16.67           152.20   \n",
            "\n",
            "   worst area  worst smoothness  worst compactness  worst concavity  \\\n",
            "0      2019.0            0.1622             0.6656           0.7119   \n",
            "1      1956.0            0.1238             0.1866           0.2416   \n",
            "2      1709.0            0.1444             0.4245           0.4504   \n",
            "3       567.7            0.2098             0.8663           0.6869   \n",
            "4      1575.0            0.1374             0.2050           0.4000   \n",
            "\n",
            "   worst concave points  worst symmetry  worst fractal dimension  \n",
            "0                0.2654          0.4601                  0.11890  \n",
            "1                0.1860          0.2750                  0.08902  \n",
            "2                0.2430          0.3613                  0.08758  \n",
            "3                0.2575          0.6638                  0.17300  \n",
            "4                0.1625          0.2364                  0.07678  \n",
            "\n",
            "[5 rows x 30 columns]\n",
            "\n",
            "Типи даних:\n",
            "mean radius                float64\n",
            "mean texture               float64\n",
            "mean perimeter             float64\n",
            "mean area                  float64\n",
            "mean smoothness            float64\n",
            "mean compactness           float64\n",
            "mean concavity             float64\n",
            "mean concave points        float64\n",
            "mean symmetry              float64\n",
            "mean fractal dimension     float64\n",
            "radius error               float64\n",
            "texture error              float64\n",
            "perimeter error            float64\n",
            "area error                 float64\n",
            "smoothness error           float64\n",
            "compactness error          float64\n",
            "concavity error            float64\n",
            "concave points error       float64\n",
            "symmetry error             float64\n",
            "fractal dimension error    float64\n",
            "worst radius               float64\n",
            "worst texture              float64\n",
            "worst perimeter            float64\n",
            "worst area                 float64\n",
            "worst smoothness           float64\n",
            "worst compactness          float64\n",
            "worst concavity            float64\n",
            "worst concave points       float64\n",
            "worst symmetry             float64\n",
            "worst fractal dimension    float64\n",
            "dtype: object\n",
            "\n",
            "Кількість пропусків: 0\n",
            "\n",
            "Розмір даних: (569, 30)\n"
          ]
        }
      ]
    },
    {
      "cell_type": "code",
      "source": [
        "# Розділення на тренувальну та тестову вибірки\n",
        "X_train, X_test, y_train, y_test = train_test_split(X, y, test_size=0.2, random_state=42)\n"
      ],
      "metadata": {
        "id": "9aQyW6zWz9cA"
      },
      "execution_count": 159,
      "outputs": []
    },
    {
      "cell_type": "code",
      "source": [
        "# Масштабування ознак\n",
        "scaler = StandardScaler()\n",
        "X_train_scaled = scaler.fit_transform(X_train)\n",
        "X_test_scaled = scaler.transform(X_test)"
      ],
      "metadata": {
        "id": "w47cXWcK0AA1"
      },
      "execution_count": 160,
      "outputs": []
    },
    {
      "cell_type": "code",
      "source": [
        "# 1. Логістична регресія\n",
        "log_reg = LogisticRegression(max_iter=10000)\n",
        "params_lr = {'C': [0.1, 1, 10]}\n",
        "grid_lr = GridSearchCV(log_reg, params_lr, cv=5)\n",
        "grid_lr.fit(X_train_scaled, y_train)\n",
        "\n",
        "y_pred_lr = grid_lr.predict(X_test_scaled)\n",
        "\n",
        "print(\"\\n=== Логістична регресія ===\")\n",
        "print(\"Найкращі параметри:\", grid_lr.best_params_)\n",
        "print(\"Accuracy:\", accuracy_score(y_test, y_pred_lr))\n",
        "print(\"Classification report:\\n\", classification_report(y_test, y_pred_lr))\n"
      ],
      "metadata": {
        "colab": {
          "base_uri": "https://localhost:8080/"
        },
        "id": "erjVhCL_0EBy",
        "outputId": "abe00ceb-8e4f-454b-f274-733a62e04a62"
      },
      "execution_count": 161,
      "outputs": [
        {
          "output_type": "stream",
          "name": "stdout",
          "text": [
            "\n",
            "=== Логістична регресія ===\n",
            "Найкращі параметри: {'C': 10}\n",
            "Accuracy: 0.9736842105263158\n",
            "Classification report:\n",
            "               precision    recall  f1-score   support\n",
            "\n",
            "           0       0.95      0.98      0.97        43\n",
            "           1       0.99      0.97      0.98        71\n",
            "\n",
            "    accuracy                           0.97       114\n",
            "   macro avg       0.97      0.97      0.97       114\n",
            "weighted avg       0.97      0.97      0.97       114\n",
            "\n"
          ]
        }
      ]
    },
    {
      "cell_type": "code",
      "source": [
        "# 2. Дерево рішень\n",
        "tree = DecisionTreeClassifier(random_state=42)\n",
        "params_tree = {'max_depth': [3, 5, 7, None]}\n",
        "grid_tree = GridSearchCV(tree, params_tree, cv=5)\n",
        "grid_tree.fit(X_train, y_train)\n",
        "\n",
        "y_pred_tree = grid_tree.predict(X_test)\n",
        "\n",
        "print(\"\\n=== Дерево рішень ===\")\n",
        "print(\"Найкращі параметри:\", grid_tree.best_params_)\n",
        "print(\"Accuracy:\", accuracy_score(y_test, y_pred_tree))\n",
        "print(\"Classification report:\\n\", classification_report(y_test, y_pred_tree))\n"
      ],
      "metadata": {
        "colab": {
          "base_uri": "https://localhost:8080/"
        },
        "id": "J3uqcFNp0Hz2",
        "outputId": "386cbe8b-2c3b-4376-845c-fd36e4def013"
      },
      "execution_count": 163,
      "outputs": [
        {
          "output_type": "stream",
          "name": "stdout",
          "text": [
            "\n",
            "=== Дерево рішень ===\n",
            "Найкращі параметри: {'max_depth': 3}\n",
            "Accuracy: 0.9473684210526315\n",
            "Classification report:\n",
            "               precision    recall  f1-score   support\n",
            "\n",
            "           0       0.95      0.91      0.93        43\n",
            "           1       0.95      0.97      0.96        71\n",
            "\n",
            "    accuracy                           0.95       114\n",
            "   macro avg       0.95      0.94      0.94       114\n",
            "weighted avg       0.95      0.95      0.95       114\n",
            "\n"
          ]
        }
      ]
    },
    {
      "cell_type": "code",
      "source": [
        "# 3. Випадковий ліс\n",
        "rf = RandomForestClassifier(random_state=42)\n",
        "params_rf = {'n_estimators': [50, 100, 200], 'max_depth': [5, 10, None]}\n",
        "grid_rf = GridSearchCV(rf, params_rf, cv=5)\n",
        "grid_rf.fit(X_train, y_train)\n",
        "\n",
        "y_pred_rf = grid_rf.predict(X_test)\n",
        "\n",
        "print(\"\\n=== Випадковий ліс ===\")\n",
        "print(\"Найкращі параметри:\", grid_rf.best_params_)\n",
        "print(\"Accuracy:\", accuracy_score(y_test, y_pred_rf))\n",
        "print(\"Classification report:\\n\", classification_report(y_test, y_pred_rf))\n"
      ],
      "metadata": {
        "colab": {
          "base_uri": "https://localhost:8080/"
        },
        "id": "-PJqh9DN0Q6f",
        "outputId": "6f07ffd2-4f24-4fdc-9e39-8f80020c9e80"
      },
      "execution_count": 164,
      "outputs": [
        {
          "output_type": "stream",
          "name": "stdout",
          "text": [
            "\n",
            "=== Випадковий ліс ===\n",
            "Найкращі параметри: {'max_depth': 10, 'n_estimators': 200}\n",
            "Accuracy: 0.9649122807017544\n",
            "Classification report:\n",
            "               precision    recall  f1-score   support\n",
            "\n",
            "           0       0.98      0.93      0.95        43\n",
            "           1       0.96      0.99      0.97        71\n",
            "\n",
            "    accuracy                           0.96       114\n",
            "   macro avg       0.97      0.96      0.96       114\n",
            "weighted avg       0.97      0.96      0.96       114\n",
            "\n"
          ]
        }
      ]
    },
    {
      "cell_type": "code",
      "source": [
        "# Порівняння результатів\n",
        "models_results = pd.DataFrame({\n",
        "    'Модель': ['Logistic Regression', 'Decision Tree', 'Random Forest'],\n",
        "    'Accuracy': [\n",
        "        accuracy_score(y_test, y_pred_lr),\n",
        "        accuracy_score(y_test, y_pred_tree),\n",
        "        accuracy_score(y_test, y_pred_rf)\n",
        "    ]\n",
        "})\n",
        "print(\"\\n=== Порівняння точності моделей ===\")\n",
        "print(models_results)\n",
        "\n",
        "best_model = models_results.loc[models_results['Accuracy'].idxmax()]\n",
        "print(\"\\nНайкраща модель:\", best_model['Модель'])"
      ],
      "metadata": {
        "colab": {
          "base_uri": "https://localhost:8080/"
        },
        "id": "_kUxrMtK0YI9",
        "outputId": "e713f89d-df92-4b0d-9ac5-836ce00db80f"
      },
      "execution_count": 165,
      "outputs": [
        {
          "output_type": "stream",
          "name": "stdout",
          "text": [
            "\n",
            "=== Порівняння точності моделей ===\n",
            "                Модель  Accuracy\n",
            "0  Logistic Regression  0.973684\n",
            "1        Decision Tree  0.947368\n",
            "2        Random Forest  0.964912\n",
            "\n",
            "Найкраща модель: Logistic Regression\n"
          ]
        }
      ]
    },
    {
      "cell_type": "code",
      "source": [
        "# Матриця помилок найкращої моделі\n",
        "if best_model['Модель'] == 'Random Forest':\n",
        "    cm = confusion_matrix(y_test, y_pred_rf)\n",
        "elif best_model['Модель'] == 'Decision Tree':\n",
        "    cm = confusion_matrix(y_test, y_pred_tree)\n",
        "else:\n",
        "    cm = confusion_matrix(y_test, y_pred_lr)\n",
        "\n",
        "sns.heatmap(cm, annot=True, fmt='d', cmap='Blues')\n",
        "plt.title(f\"Матриця помилок ({best_model['Модель']})\")\n",
        "plt.xlabel('Прогноз')\n",
        "plt.ylabel('Реальність')\n",
        "plt.show()"
      ],
      "metadata": {
        "colab": {
          "base_uri": "https://localhost:8080/",
          "height": 472
        },
        "id": "6OBAxIWj0cEN",
        "outputId": "5772d0d8-212f-4de1-c11d-380c38510c95"
      },
      "execution_count": 166,
      "outputs": [
        {
          "output_type": "display_data",
          "data": {
            "text/plain": [
              "<Figure size 640x480 with 2 Axes>"
            ],
            "image/png": "[encoded data removed]"
          },
          "metadata": {}
        }
      ]
    },
    {
      "cell_type": "code",
      "source": [
        "# ВИСНОВОК ДО - ЗАВДАННЯ 1\n",
        "\n",
        "# Аналіз результатів класифікації датасету Breast Cancer:\n",
        "# Отримані метрики моделей:\n",
        "# - Логістична регресія: 97.37% точність (найкращий результат)\n",
        "# - Дерево рішень: 94.74% точність\n",
        "# - Випадковий ліс: 96.49% точність\n",
        "# Найкращі параметри моделей:\n",
        "# - Логістична регресія: C=10\n",
        "# - Дерево рішень: max_depth=3\n",
        "# - Випадковий ліс: параметри за замовчуванням показали високу ефективність\n",
        "# Детальний аналіз найкращої моделі (Логістична регресія):\n",
        "# - Precision: 0.95 для класу 0 (доброякісні), 0.99 для класу 1 (злоякісні)\n",
        "# - Recall: 0.98 для класу 0, 0.97 для класу 1\n",
        "# - F1-score: 0.97 для обох класів\n",
        "# Основні висновки:\n",
        "# 1. Всі три моделі показали дуже високу точність (>94%), що свідчить про чіткі закономірності в даних\n",
        "# 2. Логістична регресія досягла найкращого балансу між точністю та повнотою прогнозів\n",
        "# 3. Модель чудово ідентифікує обидва типи пухлин з мінімальними помилками\n",
        "# 4. Високі значення recall особливо важливі для медичної діагностики\n",
        "# 5. GridSearchCV ефективно підібрав оптимальні параметри для кожної моделі\n",
        "# визначено найефективнішу модель для діагностики раку молочної залози"
      ],
      "metadata": {
        "id": "aERJr1XiDF_G"
      },
      "execution_count": null,
      "outputs": []
    },
    {
      "cell_type": "code",
      "source": [
        "# ЗАВДАННЯ 2. Titanic dataset"
      ],
      "metadata": {
        "id": "bBOerSTb0laz"
      },
      "execution_count": null,
      "outputs": []
    },
    {
      "cell_type": "code",
      "source": [
        "import pandas as pd\n",
        "from sklearn.model_selection import train_test_split, GridSearchCV\n",
        "from sklearn.linear_model import LogisticRegression\n",
        "from sklearn.tree import DecisionTreeClassifier\n",
        "from sklearn.ensemble import RandomForestClassifier\n",
        "from sklearn.metrics import accuracy_score, classification_report, confusion_matrix\n"
      ],
      "metadata": {
        "id": "aPWo9tV__BZc"
      },
      "execution_count": 167,
      "outputs": []
    },
    {
      "cell_type": "code",
      "source": [
        "# 1. Завантаження та попередня обробка\n",
        "titanic_df = pd.read_csv('titanic.csv')\n",
        "titanic_clean = titanic_df[['Pclass', 'Age', 'SibSp', 'Parch', 'Fare', 'Embarked', 'Survived']].copy()\n",
        "titanic_clean['Age'] = titanic_clean['Age'].fillna(titanic_clean['Age'].median())\n",
        "titanic_clean['Fare'] = titanic_clean['Fare'].fillna(titanic_clean['Fare'].median())\n",
        "titanic_clean['Embarked'] = titanic_clean['Embarked'].fillna(titanic_clean['Embarked'].mode()[0])\n",
        "titanic_clean['Embarked'] = titanic_clean['Embarked'].map({'C': 0, 'Q': 1, 'S': 2})\n",
        "titanic_clean = titanic_clean.drop_duplicates()\n",
        "\n",
        "X = titanic_clean.drop('Survived', axis=1)\n",
        "y = titanic_clean['Survived']"
      ],
      "metadata": {
        "id": "8goV5muf_Tfo"
      },
      "execution_count": 168,
      "outputs": []
    },
    {
      "cell_type": "code",
      "source": [
        "# 2. Розділення даних\n",
        "X_train, X_test, y_train, y_test = train_test_split(X, y, test_size=0.2, random_state=42, stratify=y)\n"
      ],
      "metadata": {
        "id": "KGTNuww9_WNo"
      },
      "execution_count": 169,
      "outputs": []
    },
    {
      "cell_type": "code",
      "source": [
        "# 3. Побудова та оптимізація моделей\n",
        "models = {\n",
        "    'Логістична регресія': GridSearchCV(LogisticRegression(max_iter=1000, random_state=42),\n",
        "                                      {'C': [0.1, 1, 10]}, cv=5),\n",
        "    'Дерево рішень': GridSearchCV(DecisionTreeClassifier(random_state=42),\n",
        "                                {'max_depth': [3, 5, 7]}, cv=5),\n",
        "    'Випадковий ліс': GridSearchCV(RandomForestClassifier(random_state=42),\n",
        "                                 {'n_estimators': [50, 100]}, cv=5)\n",
        "}\n",
        "\n",
        "for name, model in models.items():\n",
        "    model.fit(X_train, y_train)\n",
        "    print(f\"{name} - найкращі параметри: {model.best_params_}\")"
      ],
      "metadata": {
        "colab": {
          "base_uri": "https://localhost:8080/"
        },
        "id": "Zzqx3EbVAYn8",
        "outputId": "1e0552eb-f71d-43c6-a295-a4537c05dc76"
      },
      "execution_count": 179,
      "outputs": [
        {
          "output_type": "stream",
          "name": "stdout",
          "text": [
            "Логістична регресія - найкращі параметри: {'C': 0.1}\n",
            "Дерево рішень - найкращі параметри: {'max_depth': 7}\n",
            "Випадковий ліс - найкращі параметри: {'n_estimators': 50}\n"
          ]
        }
      ]
    },
    {
      "cell_type": "code",
      "source": [
        "# 4. Оцінка моделей\n",
        "print(\"\\nТОЧНІСТЬ НА ТЕСТОВІЙ ВИБІРЦІ:\")\n",
        "best_model_name = None\n",
        "best_accuracy = 0\n",
        "\n",
        "for name, model in models.items():\n",
        "    y_pred = model.predict(X_test)\n",
        "    accuracy = accuracy_score(y_test, y_pred)\n",
        "    print(f\"{name}: {accuracy:.4f}\")\n",
        "\n",
        "    if accuracy > best_accuracy:\n",
        "        best_accuracy = accuracy\n",
        "        best_model_name = name\n",
        "\n",
        "print(f\"\\nНайкраща модель: {best_model_name} з точністю {best_accuracy:.4f}\")"
      ],
      "metadata": {
        "colab": {
          "base_uri": "https://localhost:8080/"
        },
        "id": "SCYzv7f9A8PO",
        "outputId": "8eed562d-300f-43e0-f979-13c6054f7846"
      },
      "execution_count": 186,
      "outputs": [
        {
          "output_type": "stream",
          "name": "stdout",
          "text": [
            "\n",
            "ТОЧНІСТЬ НА ТЕСТОВІЙ ВИБІРЦІ:\n",
            "Логістична регресія: 0.6447\n",
            "Дерево рішень: 0.5921\n",
            "Випадковий ліс: 0.6184\n",
            "\n",
            "Найкраща модель: Логістична регресія з точністю 0.6447\n"
          ]
        }
      ]
    },
    {
      "cell_type": "code",
      "source": [
        "# 5. Прогноз для 10 випадків\n",
        "print(\"ПРОГНОЗ ДЛЯ 10 ПАСАЖИРІВ:\")\n",
        "best_model = models[best_model_name].best_estimator_\n",
        "predictions = best_model.predict(X_test[:10])\n",
        "\n",
        "for i, (true, pred) in enumerate(zip(y_test.iloc[:10], predictions)):\n",
        "    result = \"✓\" if true == pred else \"✗\"\n",
        "    print(f\"{result} Пасажир {i+1}: Факт = {'Вижив' if true else 'Загинув'}, Прогноз = {'Вижив' if pred else 'Загинув'}\")"
      ],
      "metadata": {
        "colab": {
          "base_uri": "https://localhost:8080/"
        },
        "id": "ub9_oeoLBFWt",
        "outputId": "228112c4-4d8c-4b79-874e-2a49f1422085"
      },
      "execution_count": 184,
      "outputs": [
        {
          "output_type": "stream",
          "name": "stdout",
          "text": [
            "ПРОГНОЗ ДЛЯ 10 ПАСАЖИРІВ:\n",
            "✓ Пасажир 1: Факт = Загинув, Прогноз = Загинув\n",
            "✓ Пасажир 2: Факт = Загинув, Прогноз = Загинув\n",
            "✗ Пасажир 3: Факт = Вижив, Прогноз = Загинув\n",
            "✓ Пасажир 4: Факт = Загинув, Прогноз = Загинув\n",
            "✓ Пасажир 5: Факт = Загинув, Прогноз = Загинув\n",
            "✓ Пасажир 6: Факт = Загинув, Прогноз = Загинув\n",
            "✗ Пасажир 7: Факт = Вижив, Прогноз = Загинув\n",
            "✗ Пасажир 8: Факт = Вижив, Прогноз = Загинув\n",
            "✓ Пасажир 9: Факт = Загинув, Прогноз = Загинув\n",
            "✗ Пасажир 10: Факт = Вижив, Прогноз = Загинув\n"
          ]
        }
      ]
    },
    {
      "cell_type": "code",
      "source": [
        "# Висновок\n",
        "# Завдання 2: Класифікація датасету Titanic\n",
        "# Отримані результати:\n",
        "# - Логістична регресія: 64.47% точність\n",
        "# - Дерево рішень: 59.21% точність\n",
        "# - Випадковий ліс: 61.84% точність\n",
        "# - Найкраща модель: Логістична регресія\n",
        "# Основні висновки:\n",
        "# 1. Логістична регресія показала найкращий результат серед трьох тестованих моделей\n",
        "# 2. Це свідчить про наявність лінійних залежностей між ознаками та виживанням\n",
        "# 3. Модель краще передбачає загиблих пасажирів, ніж виживших\n",
        "# 4. GridSearchCV ефективно підібрав оптимальні параметри для кожної моделі\n",
        "# 5. Отримані результати є реалістичними для практичного застосування\n",
        "# Прогноз для 10 пасажирів показав 60% точність (6 правильних прогнозів з 10)\n",
        "# що узгоджується із загальною точністю моделі на тестовій вибірці\n",
        "# Завдання успішно виконане - побудовано та оцінено три моделі класифікації,\n",
        "# вибрано найефективнішу модель та здійснено прогнозування"
      ],
      "metadata": {
        "id": "oacse-SxB9mE"
      },
      "execution_count": null,
      "outputs": []
    }
  ]
}