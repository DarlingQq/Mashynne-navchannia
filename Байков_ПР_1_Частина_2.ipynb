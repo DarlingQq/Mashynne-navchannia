{
  "nbformat": 4,
  "nbformat_minor": 0,
  "metadata": {
    "colab": {
      "provenance": []
    },
    "kernelspec": {
      "name": "python3",
      "display_name": "Python 3"
    },
    "language_info": {
      "name": "python"
    }
  },
  "cells": [
    {
      "cell_type": "code",
      "execution_count": null,
      "metadata": {
        "id": "3lV-3zuha5iO"
      },
      "outputs": [],
      "source": [
        "# Лабораторна робота №1 Частина 2.\n",
        "# Автор: Байков Олександр Сергійович ФІТ 4-11\n",
        "# На парі  був\n",
        ""
      ]
    },
    {
      "cell_type": "code",
      "source": [
        "import numpy as np"
      ],
      "metadata": {
        "id": "yj2umcmQf2VI"
      },
      "execution_count": 2,
      "outputs": []
    },
    {
      "cell_type": "code",
      "source": [
        "# 1. Задати вектор, що складається з перших п'яти натуральних чисел\n",
        "vector = np.array([1, 2, 3, 4, 5])\n",
        "print(\"Вектор:\", vector)\n"
      ],
      "metadata": {
        "colab": {
          "base_uri": "https://localhost:8080/"
        },
        "id": "URBtpTd3f5WA",
        "outputId": "ca05d8eb-97ed-488f-a524-ea82b31926ab"
      },
      "execution_count": 8,
      "outputs": [
        {
          "output_type": "stream",
          "name": "stdout",
          "text": [
            "Вектор: [1 2 3 4 5]\n"
          ]
        }
      ]
    },
    {
      "cell_type": "code",
      "source": [
        "# 2. Транспонувати вектор\n",
        "v1 = np.matrix(vector)\n",
        "v2 = v1.T\n",
        "print(\"Транспонований вектор:\\n\", v2)"
      ],
      "metadata": {
        "colab": {
          "base_uri": "https://localhost:8080/"
        },
        "id": "ONWj3KD8gv9I",
        "outputId": "37632612-d9ad-48f0-f73a-5775d17d6510"
      },
      "execution_count": 9,
      "outputs": [
        {
          "output_type": "stream",
          "name": "stdout",
          "text": [
            "Транспонований вектор:\n",
            " [[1]\n",
            " [2]\n",
            " [3]\n",
            " [4]\n",
            " [5]]\n"
          ]
        }
      ]
    },
    {
      "cell_type": "code",
      "source": [
        "# 3. Напишіть функцію, яка перетворює вектор у зворотньому порядку\n",
        "v_reversed = vector[::-1]\n",
        "print(\"Вектор у зворотньому порядку:\", v_reversed)\n"
      ],
      "metadata": {
        "colab": {
          "base_uri": "https://localhost:8080/"
        },
        "id": "RVOYlj3ugyan",
        "outputId": "5c45762e-dd95-41c9-a012-5b65637c41e8"
      },
      "execution_count": 10,
      "outputs": [
        {
          "output_type": "stream",
          "name": "stdout",
          "text": [
            "Вектор у зворотньому порядку: [5 4 3 2 1]\n"
          ]
        }
      ]
    },
    {
      "cell_type": "code",
      "source": [
        "# 4. Обчислити середнє значення вектора\n",
        "print(\"Середнє значення:\", np.mean(vector))\n"
      ],
      "metadata": {
        "colab": {
          "base_uri": "https://localhost:8080/"
        },
        "id": "wceedEYxg0rd",
        "outputId": "12b02bfa-e2e7-4a29-93bf-999652d69717"
      },
      "execution_count": 11,
      "outputs": [
        {
          "output_type": "stream",
          "name": "stdout",
          "text": [
            "Середнє значення: 3.0\n"
          ]
        }
      ]
    },
    {
      "cell_type": "code",
      "source": [
        "# 5. Знайдіть найбільший і найменший елемент вектора\n",
        "print(\"Мінімум:\", np.min(vector))\n",
        "print(\"Максимум:\", np.max(vector))"
      ],
      "metadata": {
        "colab": {
          "base_uri": "https://localhost:8080/"
        },
        "id": "1LpB-Awrg4_6",
        "outputId": "94a20ca2-9d30-490d-9f8d-6239dfbbf313"
      },
      "execution_count": 12,
      "outputs": [
        {
          "output_type": "stream",
          "name": "stdout",
          "text": [
            "Мінімум: 1\n",
            "Максимум: 5\n"
          ]
        }
      ]
    },
    {
      "cell_type": "code",
      "source": [
        "# 6. Обчисліть скалярний добуток (dot product) двох векторів\n",
        "v1 = np.array([1, 2, 3])\n",
        "v2 = np.array([4, 5, 6])\n",
        "print(\"Скалярний добуток:\", np.dot(v1, v2))\n",
        "print(\"Покрокове множення:\", v1*v2)"
      ],
      "metadata": {
        "colab": {
          "base_uri": "https://localhost:8080/"
        },
        "id": "ZOybf9sgg96H",
        "outputId": "6dd6d095-f18d-4eed-dc41-6cd84aa559c5"
      },
      "execution_count": 13,
      "outputs": [
        {
          "output_type": "stream",
          "name": "stdout",
          "text": [
            "Скалярний добуток: 32\n",
            "Покрокове множення: [ 4 10 18]\n"
          ]
        }
      ]
    },
    {
      "cell_type": "code",
      "source": [
        "# 7. Напишіть функцію, яка нормалізує вектор(зводить до одиничної довжини)\n",
        "norm_v = np.linalg.norm(vector)\n",
        "print(\"Норма вектора:\", norm_v)\n",
        "print(\"Нормалізований вектор:\", vector/norm_v)"
      ],
      "metadata": {
        "colab": {
          "base_uri": "https://localhost:8080/"
        },
        "id": "eDWVQcddhAE8",
        "outputId": "67460a3d-2c4f-421c-9dc3-48d4e3947a2c"
      },
      "execution_count": 14,
      "outputs": [
        {
          "output_type": "stream",
          "name": "stdout",
          "text": [
            "Норма вектора: 7.416198487095663\n",
            "Нормалізований вектор: [0.13483997 0.26967994 0.40451992 0.53935989 0.67419986]\n"
          ]
        }
      ]
    },
    {
      "cell_type": "code",
      "source": [
        "# 8. Задайте два вектори. Визначте, чи є вони ортогональними\n",
        "v3 = np.array([1, 0, 0])\n",
        "v4 = np.array([0, 1, 0])\n",
        "print(\"Ортогональні?\", np.dot(v3, v4) == 0)"
      ],
      "metadata": {
        "colab": {
          "base_uri": "https://localhost:8080/"
        },
        "id": "VIT9oCtDhCKI",
        "outputId": "cdca7e1a-dd00-4d0d-dd49-2d0ef782fc7d"
      },
      "execution_count": 15,
      "outputs": [
        {
          "output_type": "stream",
          "name": "stdout",
          "text": [
            "Ортогональні? True\n"
          ]
        }
      ]
    },
    {
      "cell_type": "code",
      "source": [
        "# 9. Визначте унікальні елементи вектора\n",
        "v = np.array([1, 2, 3, 2, 4, 5, 3])\n",
        "print(\"Унікальні елементи:\", np.unique(v))"
      ],
      "metadata": {
        "colab": {
          "base_uri": "https://localhost:8080/"
        },
        "id": "pzaAt-yqhGeF",
        "outputId": "7b8e559a-f150-4b10-cbd1-a8c553af386a"
      },
      "execution_count": 16,
      "outputs": [
        {
          "output_type": "stream",
          "name": "stdout",
          "text": [
            "Унікальні елементи: [1 2 3 4 5]\n"
          ]
        }
      ]
    },
    {
      "cell_type": "code",
      "source": [
        "# 10. Знайти вектори\n",
        "v1 = np.array([1, 2, 3])\n",
        "v2 = np.array([4, 5, 6])\n",
        "print(\"Віднімання:\", v1-v2, v2-v1)\n",
        "print(\"Додавання:\", v1+v2, v2+v1)\n",
        "print(\"Множення:\", v1*v2, v2*v1)\n",
        "print(\"Ділення:\", v1/v2, v2/v1)"
      ],
      "metadata": {
        "colab": {
          "base_uri": "https://localhost:8080/"
        },
        "id": "7dtpAzJPhHUW",
        "outputId": "f24446a3-36cf-4de0-c822-30ee5cfb447d"
      },
      "execution_count": 17,
      "outputs": [
        {
          "output_type": "stream",
          "name": "stdout",
          "text": [
            "Віднімання: [-3 -3 -3] [3 3 3]\n",
            "Додавання: [5 7 9] [5 7 9]\n",
            "Множення: [ 4 10 18] [ 4 10 18]\n",
            "Ділення: [0.25 0.4  0.5 ] [4.  2.5 2. ]\n"
          ]
        }
      ]
    },
    {
      "cell_type": "code",
      "source": [
        "# 11. Перевірити, чи дорівнює довжина вектора 5\n",
        "length_check = np.isclose(np.linalg.norm(vector), 5)\n",
        "print(\"Довжина ≈ 5?\", length_check)"
      ],
      "metadata": {
        "colab": {
          "base_uri": "https://localhost:8080/"
        },
        "id": "gzCXhwO4hJt_",
        "outputId": "5f585510-1cfc-4f57-b172-1e9b9ea3de8f"
      },
      "execution_count": 18,
      "outputs": [
        {
          "output_type": "stream",
          "name": "stdout",
          "text": [
            "Довжина ≈ 5? False\n"
          ]
        }
      ]
    },
    {
      "cell_type": "code",
      "source": [
        "# 12. Задати матрицю, заповнену випадковими числами\n",
        "a = np.random.randint(0, 11, (3, 3))\n",
        "print(\"Випадкова матриця:\\n\", a)"
      ],
      "metadata": {
        "colab": {
          "base_uri": "https://localhost:8080/"
        },
        "id": "QE21vJkohMSx",
        "outputId": "14c3323b-fc26-4e06-8034-4c2a6b0cff15"
      },
      "execution_count": 19,
      "outputs": [
        {
          "output_type": "stream",
          "name": "stdout",
          "text": [
            "Випадкова матриця:\n",
            " [[9 2 5]\n",
            " [0 4 2]\n",
            " [0 4 0]]\n"
          ]
        }
      ]
    },
    {
      "cell_type": "code",
      "source": [
        "# 13. Обчислити визначення матриці\n",
        "print(\"Визначник матриці:\", np.linalg.det(a))"
      ],
      "metadata": {
        "colab": {
          "base_uri": "https://localhost:8080/"
        },
        "id": "uXqVtyi-hOcg",
        "outputId": "5f6ce4da-b169-42be-8e46-f54b1b7f21cd"
      },
      "execution_count": 20,
      "outputs": [
        {
          "output_type": "stream",
          "name": "stdout",
          "text": [
            "Визначник матриці: -72.0\n"
          ]
        }
      ]
    },
    {
      "cell_type": "code",
      "source": [
        "# 14. Обчислити визначник матриці (обернена матриця)\n",
        "print(\"Обернена матриця:\\n\", np.linalg.inv(a))"
      ],
      "metadata": {
        "colab": {
          "base_uri": "https://localhost:8080/"
        },
        "id": "-tbi2su3hUhi",
        "outputId": "c029ae1c-c468-481b-f24d-a32fccf55e57"
      },
      "execution_count": 21,
      "outputs": [
        {
          "output_type": "stream",
          "name": "stdout",
          "text": [
            "Обернена матриця:\n",
            " [[ 0.11111111 -0.27777778  0.22222222]\n",
            " [ 0.          0.          0.25      ]\n",
            " [-0.          0.5        -0.5       ]]\n"
          ]
        }
      ]
    },
    {
      "cell_type": "code",
      "source": [
        "# 15. Розв'яжіть систему оінійних рівнянь А*х=b, де А - матриця коефіцієнтів, b - вектор вільних членів\n",
        "A = np.array([[1, 3, -4], [0, 2, -3], [-2, 2, 5]])\n",
        "b = np.array([5, 3, 4])\n",
        "x = np.linalg.solve(A, b)\n",
        "print(\"Розв'язок системи:\", x)"
      ],
      "metadata": {
        "colab": {
          "base_uri": "https://localhost:8080/"
        },
        "id": "HVpuX18MhW85",
        "outputId": "edf726dd-6bc7-4e07-a8e0-7c0ee090c30d"
      },
      "execution_count": 22,
      "outputs": [
        {
          "output_type": "stream",
          "name": "stdout",
          "text": [
            "Розв'язок системи: [0.38888889 1.83333333 0.22222222]\n"
          ]
        }
      ]
    },
    {
      "cell_type": "code",
      "source": [
        "# 16. Множення двох матриць\n",
        "print(\"Множення матриць (вектор):\", np.dot(A, b))\n",
        "B = np.array([[5, 3, 4], [2, 3, 5], [3, 2, 3]])\n",
        "A2 = np.array([[1, 3, -4], [0, 2, -3]])\n",
        "print(\"Множення матриць:\\n\", np.dot(A2, B))"
      ],
      "metadata": {
        "colab": {
          "base_uri": "https://localhost:8080/"
        },
        "id": "-IxpxrGGhex2",
        "outputId": "978e5b28-5248-48e5-8312-fc3b846fac82"
      },
      "execution_count": 23,
      "outputs": [
        {
          "output_type": "stream",
          "name": "stdout",
          "text": [
            "Множення матриць (вектор): [-2 -6 16]\n",
            "Множення матриць:\n",
            " [[-1  4  7]\n",
            " [-5  0  1]]\n"
          ]
        }
      ]
    },
    {
      "cell_type": "code",
      "source": [
        "# 17. Транспонування матриць\n",
        "print(\"Транспонування A2:\\n\", A2.T)\n",
        "print(\"Транспонування B:\\n\", B.T)\n"
      ],
      "metadata": {
        "colab": {
          "base_uri": "https://localhost:8080/"
        },
        "id": "3rHHVO5Uhg3n",
        "outputId": "b58e2daa-b57b-462a-ff7b-6d9d7522b6de"
      },
      "execution_count": 25,
      "outputs": [
        {
          "output_type": "stream",
          "name": "stdout",
          "text": [
            "Транспонування A2:\n",
            " [[ 1  0]\n",
            " [ 3  2]\n",
            " [-4 -3]]\n",
            "Транспонування B:\n",
            " [[5 2 3]\n",
            " [3 3 2]\n",
            " [4 5 3]]\n"
          ]
        }
      ]
    },
    {
      "cell_type": "code",
      "source": [
        "# 18. Перевірка симетричності матриць\n",
        "matrix = np.matrix([[2, 2, 2], [2, 2, 2], [2,2,2]])\n",
        "print(\"Симетрична?\", np.allclose(matrix, matrix.T))"
      ],
      "metadata": {
        "colab": {
          "base_uri": "https://localhost:8080/"
        },
        "id": "0wVVXE5HhlDt",
        "outputId": "478b43aa-b858-494d-c9f9-6d09a2453a97"
      },
      "execution_count": 26,
      "outputs": [
        {
          "output_type": "stream",
          "name": "stdout",
          "text": [
            "Симетрична? True\n"
          ]
        }
      ]
    },
    {
      "cell_type": "code",
      "source": [
        "# 19. Обчислення сліду матриці\n",
        "print(\"Слід матриці:\", np.trace(matrix))"
      ],
      "metadata": {
        "colab": {
          "base_uri": "https://localhost:8080/"
        },
        "id": "LiYN2yiphnJm",
        "outputId": "f2069c50-87f6-4b4b-9a74-511a53cbebe9"
      },
      "execution_count": 27,
      "outputs": [
        {
          "output_type": "stream",
          "name": "stdout",
          "text": [
            "Слід матриці: 6\n"
          ]
        }
      ]
    },
    {
      "cell_type": "code",
      "source": [
        "# 20. Дії з матрицями\n",
        "a = np.matrix([[1, 2], [3, 4]])\n",
        "b = np.matrix([[5, 6], [7, 8]])\n",
        "print(\"Додавання:\\n\", np.add(a, b))\n",
        "print(\"Віднімання:\\n\", np.subtract(a,b))\n",
        "print(\"Множення:\\n\", np.multiply(a, b))\n",
        "print(\"Ділення:\\n\", np.divide(a, b))"
      ],
      "metadata": {
        "colab": {
          "base_uri": "https://localhost:8080/"
        },
        "id": "XvHv1QJQhpLd",
        "outputId": "0dac8f32-8cc1-4a4d-d5ff-3b852e0e7df2"
      },
      "execution_count": 28,
      "outputs": [
        {
          "output_type": "stream",
          "name": "stdout",
          "text": [
            "Додавання:\n",
            " [[ 6  8]\n",
            " [10 12]]\n",
            "Віднімання:\n",
            " [[-4 -4]\n",
            " [-4 -4]]\n",
            "Множення:\n",
            " [[ 5 12]\n",
            " [21 32]]\n",
            "Ділення:\n",
            " [[0.2        0.33333333]\n",
            " [0.42857143 0.5       ]]\n"
          ]
        }
      ]
    },
    {
      "cell_type": "code",
      "source": [
        "# 21. Піднесення матриці до ступення\n",
        "print(\"Матриця у квадраті:\\n\", np.linalg.matrix_power(a, 2))"
      ],
      "metadata": {
        "colab": {
          "base_uri": "https://localhost:8080/"
        },
        "id": "QC-KHm87hrfK",
        "outputId": "70416801-d359-4e8d-bd31-7830e6f953b4"
      },
      "execution_count": 29,
      "outputs": [
        {
          "output_type": "stream",
          "name": "stdout",
          "text": [
            "Матриця у квадраті:\n",
            " [[ 7 10]\n",
            " [15 22]]\n"
          ]
        }
      ]
    },
    {
      "cell_type": "code",
      "source": [
        "# 22. Сортування рядків або стовпців мамтриці\n",
        "b2 = np.matrix([[5, 3, 4], [2, 3, 5], [3, 2, 3]])\n",
        "print(\"Сортування по стовпцях:\\n\", np.sort(b2, axis=0))\n",
        "print(\"Сортування по рядках:\\n\", np.sort(b2, axis=1))\n",
        "print(\"Сортування всіх елементів:\\n\", np.sort(b2, axis=None))"
      ],
      "metadata": {
        "colab": {
          "base_uri": "https://localhost:8080/"
        },
        "id": "lKxlHjvahtow",
        "outputId": "5be06c5d-0f1b-42fb-8f00-f89eb3b9a4c4"
      },
      "execution_count": 30,
      "outputs": [
        {
          "output_type": "stream",
          "name": "stdout",
          "text": [
            "Сортування по стовпцях:\n",
            " [[2 2 3]\n",
            " [3 3 4]\n",
            " [5 3 5]]\n",
            "Сортування по рядках:\n",
            " [[3 4 5]\n",
            " [2 3 5]\n",
            " [2 3 3]]\n",
            "Сортування всіх елементів:\n",
            " [[2 2 3 3 3 3 4 5 5]]\n"
          ]
        }
      ]
    },
    {
      "cell_type": "code",
      "source": [
        "# 23. Підрахувати суму елементів кожного рядка матриці. Відповіді записати у вигляді вектора-стовпчика\n",
        "row_sums = np.sum(a, axis=1).reshape(-1,1)\n",
        "print(\"Сума елементів рядків:\\n\", row_sums)"
      ],
      "metadata": {
        "colab": {
          "base_uri": "https://localhost:8080/"
        },
        "id": "sUqLFlfrhxp5",
        "outputId": "dd15cccb-1fd6-4091-fb42-d3db54c09737"
      },
      "execution_count": 32,
      "outputs": [
        {
          "output_type": "stream",
          "name": "stdout",
          "text": [
            "Сума елементів рядків:\n",
            " [[3]\n",
            " [7]]\n"
          ]
        }
      ]
    },
    {
      "cell_type": "code",
      "source": [
        "# Висновок. У роботі виконано основні операції з векторами та матрицями в Python, включно з обчисленнями, транспонуванням та розв’язанням систем рівнянь."
      ],
      "metadata": {
        "id": "FTYLYuzXiYTT"
      },
      "execution_count": null,
      "outputs": []
    }
  ]
}